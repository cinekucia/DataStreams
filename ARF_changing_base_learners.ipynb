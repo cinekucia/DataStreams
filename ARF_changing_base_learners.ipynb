{
  "nbformat": 4,
  "nbformat_minor": 0,
  "metadata": {
    "colab": {
      "provenance": []
    },
    "kernelspec": {
      "name": "python3",
      "display_name": "Python 3"
    },
    "language_info": {
      "name": "python"
    }
  },
  "cells": [
    {
      "cell_type": "code",
      "execution_count": 1,
      "metadata": {
        "colab": {
          "base_uri": "https://localhost:8080/"
        },
        "id": "g4BcxjSE3jCd",
        "outputId": "b65e95d4-3253-4388-f069-90d56f76f239"
      },
      "outputs": [
        {
          "output_type": "stream",
          "name": "stdout",
          "text": [
            "Collecting river\n",
            "  Downloading river-0.22.0-cp311-cp311-manylinux_2_17_x86_64.manylinux2014_x86_64.whl.metadata (9.0 kB)\n",
            "Requirement already satisfied: numpy>=1.23.0 in /usr/local/lib/python3.11/dist-packages (from river) (2.0.2)\n",
            "Collecting pandas<3.0.0,>=2.2.3 (from river)\n",
            "  Downloading pandas-2.2.3-cp311-cp311-manylinux_2_17_x86_64.manylinux2014_x86_64.whl.metadata (89 kB)\n",
            "\u001b[2K     \u001b[90m━━━━━━━━━━━━━━━━━━━━━━━━━━━━━━━━━━━━━━━━\u001b[0m \u001b[32m89.9/89.9 kB\u001b[0m \u001b[31m1.9 MB/s\u001b[0m eta \u001b[36m0:00:00\u001b[0m\n",
            "\u001b[?25hRequirement already satisfied: scipy<2.0.0,>=1.14.1 in /usr/local/lib/python3.11/dist-packages (from river) (1.14.1)\n",
            "Requirement already satisfied: python-dateutil>=2.8.2 in /usr/local/lib/python3.11/dist-packages (from pandas<3.0.0,>=2.2.3->river) (2.8.2)\n",
            "Requirement already satisfied: pytz>=2020.1 in /usr/local/lib/python3.11/dist-packages (from pandas<3.0.0,>=2.2.3->river) (2025.2)\n",
            "Requirement already satisfied: tzdata>=2022.7 in /usr/local/lib/python3.11/dist-packages (from pandas<3.0.0,>=2.2.3->river) (2025.2)\n",
            "Requirement already satisfied: six>=1.5 in /usr/local/lib/python3.11/dist-packages (from python-dateutil>=2.8.2->pandas<3.0.0,>=2.2.3->river) (1.17.0)\n",
            "Downloading river-0.22.0-cp311-cp311-manylinux_2_17_x86_64.manylinux2014_x86_64.whl (3.2 MB)\n",
            "\u001b[2K   \u001b[90m━━━━━━━━━━━━━━━━━━━━━━━━━━━━━━━━━━━━━━━━\u001b[0m \u001b[32m3.2/3.2 MB\u001b[0m \u001b[31m11.3 MB/s\u001b[0m eta \u001b[36m0:00:00\u001b[0m\n",
            "\u001b[?25hDownloading pandas-2.2.3-cp311-cp311-manylinux_2_17_x86_64.manylinux2014_x86_64.whl (13.1 MB)\n",
            "\u001b[2K   \u001b[90m━━━━━━━━━━━━━━━━━━━━━━━━━━━━━━━━━━━━━━━━\u001b[0m \u001b[32m13.1/13.1 MB\u001b[0m \u001b[31m6.2 MB/s\u001b[0m eta \u001b[36m0:00:00\u001b[0m\n",
            "\u001b[?25hInstalling collected packages: pandas, river\n",
            "  Attempting uninstall: pandas\n",
            "    Found existing installation: pandas 2.2.2\n",
            "    Uninstalling pandas-2.2.2:\n",
            "      Successfully uninstalled pandas-2.2.2\n",
            "\u001b[31mERROR: pip's dependency resolver does not currently take into account all the packages that are installed. This behaviour is the source of the following dependency conflicts.\n",
            "google-colab 1.0.0 requires pandas==2.2.2, but you have pandas 2.2.3 which is incompatible.\u001b[0m\u001b[31m\n",
            "\u001b[0mSuccessfully installed pandas-2.2.3 river-0.22.0\n"
          ]
        }
      ],
      "source": [
        "!pip install river"
      ]
    },
    {
      "cell_type": "code",
      "source": [
        "from river import forest, tree, metrics, drift, stats\n",
        "from river.utils.random import poisson\n",
        "import matplotlib.pyplot as plt\n",
        "\n",
        "class SmartARF(forest.ARFClassifier):\n",
        "    def __init__(self, max_models=30, accuracy_drop_threshold=0.5, monitor_window=100, **kwargs):\n",
        "        super().__init__(**kwargs)\n",
        "        self.max_models = max_models\n",
        "        self.accuracy_drop_threshold = accuracy_drop_threshold\n",
        "        self.monitor_window = monitor_window\n",
        "        self.model_count_history = []\n",
        "\n",
        "        # For pruning\n",
        "        self._accuracy_window = []          # List of recent accuracies for each tree\n",
        "        self._warned_tree_ids = set()       # Trees under accuracy-drop observation\n",
        "        self._warning_step = {}             # Step when warning was triggered\n",
        "        self._warned_recent_acc = {}        # Accuracy at time of warning\n",
        "\n",
        "    def learn_one(self, x, y):\n",
        "        if len(self) == 0:\n",
        "            self._init_ensemble(sorted(x.keys()))\n",
        "\n",
        "        current_step = len(self.model_count_history)\n",
        "        self.model_count_history.append(len(self.data))\n",
        "\n",
        "        for i in range(len(self.data)):\n",
        "            model = self.data[i]\n",
        "            y_pred = model.predict_one(x)\n",
        "            self._metrics[i].update(y_true=y, y_pred=y_pred)\n",
        "\n",
        "            self._ensure_accuracy_window_exists(i)\n",
        "            self._accuracy_window[i].append(int(y_pred == y))\n",
        "            if len(self._accuracy_window[i]) > self.monitor_window:\n",
        "                self._accuracy_window[i].pop(0)\n",
        "\n",
        "            k = poisson(rate=self.lambda_value, rng=self._rng)\n",
        "            if k > 0:\n",
        "                model.learn_one(x=x, y=y, w=k)\n",
        "\n",
        "                # Handle warning\n",
        "                if not self._warning_detection_disabled:\n",
        "                    self._warning_detectors[i].update(int(y_pred != y))\n",
        "                    if self._warning_detectors[i].drift_detected:\n",
        "                        self._background[i] = self._new_base_model()\n",
        "                        self._warning_detectors[i] = self.warning_detector.clone()\n",
        "                        self._warning_tracker[i] += 1\n",
        "\n",
        "                        # Start tracking accuracy drop\n",
        "                        self._warned_tree_ids.add(i)\n",
        "                        self._warning_step[i] = current_step\n",
        "                        self._warned_recent_acc[i] = self._get_recent_accuracy(i)\n",
        "\n",
        "                # Handle drift\n",
        "                if not self._drift_detection_disabled:\n",
        "                    self._drift_detectors[i].update(int(y_pred != y))\n",
        "                    if self._drift_detectors[i].drift_detected:\n",
        "                        if self._background[i] is not None:\n",
        "                            new_tree = self._background[i]\n",
        "\n",
        "                            # Prune if at capacity\n",
        "                            if len(self.data) >= self.max_models:\n",
        "                                worst = self._find_worst_model()\n",
        "                                self._remove_model(worst)\n",
        "\n",
        "                            # Add new model\n",
        "                            self.data.append(new_tree)\n",
        "                            self._metrics.append(self.metric.clone())\n",
        "                            self._drift_detectors.append(self.drift_detector.clone())\n",
        "                            self._warning_detectors.append(self.warning_detector.clone())\n",
        "                            self._background.append(None)\n",
        "                            self._accuracy_window.append([])  # for new model\n",
        "                            self._drift_tracker[i] += 1\n",
        "                            self._background[i] = None\n",
        "\n",
        "        self._check_prune_on_accuracy_drop(current_step)\n",
        "        return self\n",
        "\n",
        "    def _check_prune_on_accuracy_drop(self, current_step):\n",
        "        to_remove = []\n",
        "        for i in list(self._warned_tree_ids):\n",
        "            age_since_warning = current_step - self._warning_step.get(i, 0)\n",
        "            if age_since_warning > self.monitor_window:\n",
        "                to_remove.append(i)\n",
        "                continue\n",
        "\n",
        "            current_acc = self._get_recent_accuracy(i)\n",
        "            past_acc = self._warned_recent_acc.get(i, 1.0)\n",
        "\n",
        "            if current_acc < self.accuracy_drop_threshold * past_acc:\n",
        "                print(f\"⚠️ Tree {i} accuracy drop: {past_acc:.2f} → {current_acc:.2f}. Pruning.\")\n",
        "                self._remove_model(i)\n",
        "                to_remove.append(i)\n",
        "\n",
        "        for i in to_remove:\n",
        "            self._warned_tree_ids.discard(i)\n",
        "            self._warning_step.pop(i, None)\n",
        "            self._warned_recent_acc.pop(i, None)\n",
        "\n",
        "    def _get_recent_accuracy(self, i):\n",
        "        accs = self._accuracy_window[i]\n",
        "        return sum(accs) / len(accs) if accs else 1.0\n",
        "\n",
        "    def _ensure_accuracy_window_exists(self, i):\n",
        "        while len(self._accuracy_window) <= i:\n",
        "            self._accuracy_window.append([])\n",
        "\n",
        "    def _find_worst_model(self):\n",
        "        metric_scores = [m.get() for m in self._metrics]\n",
        "        return metric_scores.index(min(metric_scores))\n",
        "\n",
        "    def _remove_model(self, index):\n",
        "        print(f\"🪓 Removing tree {index} (score: {self._metrics[index].get():.4f})\")\n",
        "        del self.data[index]\n",
        "        del self._metrics[index]\n",
        "        del self._drift_detectors[index]\n",
        "        del self._warning_detectors[index]\n",
        "        del self._background[index]\n",
        "        del self._accuracy_window[index]\n",
        "\n",
        "        # Clean up pruning trackers\n",
        "        self._warned_tree_ids = {i if i < index else i-1 for i in self._warned_tree_ids if i != index}\n",
        "        self._warning_step = {i if i < index else i-1: v for i, v in self._warning_step.items() if i != index}\n",
        "        self._warned_recent_acc = {i if i < index else i-1: v for i, v in self._warned_recent_acc.items() if i != index}\n"
      ],
      "metadata": {
        "id": "rP42iaM93l0b"
      },
      "execution_count": 2,
      "outputs": []
    },
    {
      "cell_type": "code",
      "source": [
        "from river import datasets, preprocessing, metrics\n",
        "\n",
        "# Stream with concept drift\n",
        "dataset = datasets.synth.ConceptDriftStream(seed=420, position=500, width=60).take(10000)\n",
        "\n",
        "# Model\n",
        "model = SmartARF(\n",
        "    n_models=10,\n",
        "    max_models=14,\n",
        "    warning_detector=drift.ADWIN(delta=0.05),\n",
        "    seed=42,\n",
        "    leaf_prediction=\"mc\"\n",
        ")\n",
        "\n",
        "model = preprocessing.StandardScaler() | model\n",
        "metric = metrics.Accuracy()\n",
        "\n",
        "# Training loop\n",
        "for x, y in dataset:\n",
        "    y_pred = model.predict_one(x)\n",
        "    model.learn_one(x, y)\n",
        "    metric.update(y, y_pred)\n",
        "\n",
        "print(f\"\\n✅ Final accuracy: {metric.get():.4f}\")\n"
      ],
      "metadata": {
        "colab": {
          "base_uri": "https://localhost:8080/"
        },
        "id": "gZmY7aEM3l8P",
        "outputId": "739be0e1-73e6-4725-a353-3044c57bf5ce"
      },
      "execution_count": 5,
      "outputs": [
        {
          "output_type": "stream",
          "name": "stdout",
          "text": [
            "🪓 Removing tree 13 (score: 0.5042)\n",
            "🪓 Removing tree 13 (score: 0.5195)\n",
            "🪓 Removing tree 11 (score: 0.5487)\n",
            "🪓 Removing tree 13 (score: 0.4946)\n",
            "🪓 Removing tree 12 (score: 0.5457)\n",
            "🪓 Removing tree 13 (score: 0.4654)\n",
            "🪓 Removing tree 12 (score: 0.5550)\n",
            "🪓 Removing tree 13 (score: 0.5380)\n",
            "🪓 Removing tree 13 (score: 0.5909)\n",
            "🪓 Removing tree 13 (score: 0.5258)\n",
            "🪓 Removing tree 6 (score: 0.6054)\n",
            "🪓 Removing tree 13 (score: 0.5420)\n",
            "🪓 Removing tree 13 (score: 0.6042)\n",
            "🪓 Removing tree 13 (score: 0.5650)\n",
            "🪓 Removing tree 0 (score: 0.6467)\n",
            "🪓 Removing tree 12 (score: 0.5115)\n",
            "🪓 Removing tree 12 (score: 0.5374)\n",
            "🪓 Removing tree 13 (score: 0.5685)\n",
            "🪓 Removing tree 13 (score: 0.5647)\n",
            "\n",
            "✅ Final accuracy: 0.9456\n"
          ]
        }
      ]
    },
    {
      "cell_type": "code",
      "source": [
        "plt.plot(model[-1].model_count_history)\n",
        "plt.title(\"Number of Trees Over Time\")\n",
        "plt.xlabel(\"Step\")\n",
        "plt.ylabel(\"Trees in Ensemble\")\n",
        "plt.grid(True)\n",
        "plt.show()\n"
      ],
      "metadata": {
        "colab": {
          "base_uri": "https://localhost:8080/",
          "height": 472
        },
        "id": "dtlzM0ma3tGI",
        "outputId": "ddbdebe8-6085-41e8-be40-0d8b35ab6128"
      },
      "execution_count": 6,
      "outputs": [
        {
          "output_type": "display_data",
          "data": {
            "text/plain": [
              "<Figure size 640x480 with 1 Axes>"
            ],
            "image/png": "[encoded data removed]"
          },
          "metadata": {}
        }
      ]
    },
    {
      "cell_type": "code",
      "source": [
        "from river import datasets, preprocessing, metrics\n",
        "\n",
        "# Stream with concept drift\n",
        "dataset = datasets.synth.ConceptDriftStream(seed=420, position=500, width=60).take(10000)\n",
        "\n",
        "# Model\n",
        "model = forest.ARFClassifier(\n",
        "    n_models=15,\n",
        "    warning_detector=drift.ADWIN(delta=0.01),\n",
        "    seed=42,\n",
        "    leaf_prediction=\"mc\"\n",
        ")\n",
        "\n",
        "model = preprocessing.StandardScaler() | model\n",
        "metric = metrics.Accuracy()\n",
        "\n",
        "# Training loop\n",
        "for x, y in dataset:\n",
        "    y_pred = model.predict_one(x)\n",
        "    model.learn_one(x, y)\n",
        "    metric.update(y, y_pred)\n",
        "\n",
        "print(f\"\\n✅ Final accuracy: {metric.get():.4f}\")\n"
      ],
      "metadata": {
        "colab": {
          "base_uri": "https://localhost:8080/"
        },
        "id": "3Gam_JxW3u_w",
        "outputId": "02b879ec-0fdd-4a2f-d3ac-7bd3bc382fc9"
      },
      "execution_count": 7,
      "outputs": [
        {
          "output_type": "stream",
          "name": "stdout",
          "text": [
            "\n",
            "✅ Final accuracy: 0.9080\n"
          ]
        }
      ]
    }
  ]
}